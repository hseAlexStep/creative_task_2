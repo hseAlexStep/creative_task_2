{
  "metadata": {
    "kernelspec": {
      "name": "python",
      "display_name": "Python (Pyodide)",
      "language": "python"
    },
    "language_info": {
      "codemirror_mode": {
        "name": "python",
        "version": 3
      },
      "file_extension": ".py",
      "mimetype": "text/x-python",
      "name": "python",
      "nbconvert_exporter": "python",
      "pygments_lexer": "ipython3",
      "version": "3.8"
    }
  },
  "nbformat_minor": 5,
  "nbformat": 4,
  "cells": [
    {
      "id": "9121340e-3ea5-4c1f-9181-9128dca7d4ec",
      "cell_type": "markdown",
      "source": "Условие:   \nИспокон веков в королевстве магов проходит турнир заклинаний.  \nНа нем они представляют свои лучшие наработки за весь год.  \nИ недавно вновь прошла такая встреча, на которой каждый маг представил свои уникальные заклинания.  \nВам нужно создать словарь, в котором ключами будут имена магов, а значениями — списки их заклинаний.   \nПосле этого вам нужно узнать, какие заклинания использует конкретный маг.\n\nФормат ввода:  \n• Первая строка содержит целое число n (1 ≤ n ≤ 100) — количество магов.  \n• Далее следуют n строк, каждая из которых содержит имя мага и его заклинания, разделенные запятыми.  \n• Последняя строка содержит имя мага для запроса.  \n\nФормат вывода:  \n• Если маг найден, вывести его заклинания через запятую.  \n• Если маг не найден, вывести сообщение \"Маг не найден\".  \n\nТесты:  \nТест 1: \nВвод:  \n3  \nГарри, огненный шар, ледяная стрела  \nЛуна, невидимость, светлячок  \nСириус, превращение  \nГарри  \n\nВывод: огненный шар, ледяная стрела  \n\nТест 2:   \nВвод:  \n2  \nДамблдор, телепортация, защита  \nВоландеморт, проклятие, невидимость  \nГриндевальд  \n\nВывод: Маг не найден  \n\nРешение:",
      "metadata": {}
    },
    {
      "id": "dc78f549-116f-4f30-bca2-edf42b737986",
      "cell_type": "code",
      "source": "n = input()\nmagicians = {}\n\nfor _ in range(int(n)):\n    entry = input().strip()\n    name, *spells = entry.split(\", \")\n    magicians[name] = spells\n\nmag = input().strip()\n\nif mag in magicians:\n    print(\", \".join(magicians[mag]))\nelse:\n    print(\"Маг не найден\")\n",
      "metadata": {
        "trusted": true
      },
      "outputs": [],
      "execution_count": null
    },
    {
      "id": "5411b17d-2fbc-4f63-b2d9-4e6fe3f34f87",
      "cell_type": "markdown",
      "source": "(понимаю, что задача не совсем на множества, но смысл похож, я ее изменил,  \nчтобы ее решение было чуть-чуть интересенее простого пересечения двух множеств) \nУсловие:  \nВ классе есть два списка интересов: один список для мальчиков, другой — для девочек.  \nВам нужно определить, какие интересы есть у обоих полов, а также вывести их в порядке \"приоритета\".   \n(Приоритет определяется по количеству упоминаний интереса в каждом из списков.  \nЕсли интерес упоминается несколько раз, он считается более приоритетным.)  \n\nФормат ввода:  \n• Первая строка содержит целое число n (1 ≤ n ≤ 100) — количество интересов у мальчиков.  \n• Далее следуют n строк, каждая из которых содержит название интереса у мальчиков.  \n• Затем следует целое число m (1 ≤ m ≤ 100) — количество интересов у девочек.  \n• Далее следуют m строк, каждая из которых содержит название интереса у девочек.  \n\nФормат вывода:  \n\n• Вывести названия интересов, которые есть у обоих полов, через запятую, отсортированные по приоритету (от большего к меньшему).  \n• Если таких интересов нет, вывести сообщение \"Нет общих интересов\".  \n\nТест 1:  \nВвод:  \n5  \nФутбол  \nКомпьютеры  \nРисование  \nКомпьютеры  \nФутбол  \n4  \nРисование  \nМузыка  \nКомпьютеры  \nТанцы  \n\nВывод:  \nКомпьютеры, Футбол, Рисование  \n\nТест 2: \nВвод: \n2  \nСноуборд  \nКниги  \n3  \nГитара  \nПутешествия  \nСпорт  \n\nВывод:  \nНет общих интересов  \n\nРешение:  ",
      "metadata": {}
    },
    {
      "id": "0f3282d0-2301-4efb-9c6c-22065f327f4d",
      "cell_type": "code",
      "source": "n = int(input())\nboys_interests = []\n\nfor _ in range(n):\n    interest = input().strip()\n    boys_interests.append(interest)\n\nm = int(input())\ngirls_interests = []\n\nfor _ in range(m):\n    interest = input().strip()\n    girls_interests.append(interest)\n\npriority = {}\n\nfor interest in boys_interests:\n    if interest in priority:\n        priority[interest][0] += 1\n    else:\n        priority[interest] = [1, 0]\n\n\nfor interest in girls_interests:\n    if interest in priority:\n        priority[interest][1] += 1  \n    else:\n        priority[interest] = [0, 1]\n\ncommon_interests = []\n\n\nfor interest, counts in priority.items():\n    if counts[0] > 0 and counts[1] > 0: \n        common_interests.append((interest, counts[0] + counts[1]))  \n\n\ncommon_interests.sort(key=lambda x: x[1], reverse=True)\n\n\nif common_interests:\n    result = [interest for interest, _ in common_interests]\n    print(\", \".join(result))\nelse:\n    print(\"Нет общих интересов\")",
      "metadata": {
        "trusted": true
      },
      "outputs": [],
      "execution_count": null
    },
    {
      "id": "743ddf61-884b-4764-a54a-d1a1526844cb",
      "cell_type": "code",
      "source": "",
      "metadata": {
        "trusted": true
      },
      "outputs": [],
      "execution_count": null
    }
  ]
}