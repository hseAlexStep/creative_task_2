{
  "nbformat": 4,
  "nbformat_minor": 0,
  "metadata": {
    "colab": {
      "provenance": []
    },
    "kernelspec": {
      "name": "python3",
      "display_name": "Python 3"
    },
    "language_info": {
      "name": "python"
    }
  },
  "cells": [
    {
      "cell_type": "markdown",
      "source": [
        "### Условие:\n",
        "Испокон веков в королевстве магов проходит турнир заклинаний.\n",
        "На нем они представляют свои лучшие наработки за весь год.\n",
        "И недавно вновь прошла такая встреча, на которой каждый маг представил свои уникальные заклинания. \n",
        "Вам нужно создать словарь, в котором ключами будут имена магов, а значениями — списки их заклинаний.\n", 
        "После этого вам нужно узнать, какие заклинания использует конкретный маг.\n"
      ],
      "metadata": {
        "id": "zxunuWsuH2aR"
      }
    },
    {
      "cell_type": "code",
      "execution_count": 1,
      "metadata": {
        "colab": {
          "base_uri": "https://localhost:8080/",
          "height": 0
        },
        "id": "Doldl0o-H1eZ",
        "outputId": "22780ab4-4a8a-47b0-d5d0-51751427b377"
      },
      "outputs": [
        {
          "output_type": "stream",
          "name": "stdout",
          "text": [
            "Формат ввода:\n",
            "• Первая строка содержит целое число n (1 ≤ n ≤ 100) — количество магов.\n",
            "• Далее следуют n строк, каждая из которых содержит имя мага и его заклинания, разделенные запятыми.\n",
            "• Последняя строка содержит имя мага для запроса.\n",
            "\n",
            "Формат вывода:\n",
            "• Если маг найден, вывести его заклинания через запятую.\n",
            "• Если маг не найден, вывести сообщение 'Маг не найден'.\n"
            ]
        }
      ],
      "source": [
        "n = int(input())\n",
        "magicians = {}\n",
        "for _ in range(n):\n",
        "\n",
        "    entry = input().strip()\n",
        "    name, *spells = entry.split(", ")\n",
        "    magicians[name] = spells\n",
        "\n",
        "mag = input().strip()\n",
        "\n",
        "if mag in magicians:\n",
        "    print(", ".join(magicians[mag]))\n",
        "else:\n",
        "    print('Маг не найден')\n"
        
      ]
    },
    {
      "cell_type": "markdown",
      "source": [
        "(понимаю, что задача не совсем на множества, но смысл похож, я ее изменил,\n",
        "чтобы ее решение было чуть-чуть интересенее простого пересечения двух множеств)\n",
        "Условие:\n",
        "В классе есть два списка интересов: один список для мальчиков, другой — для девочек. \n",
        "Вам нужно определить, какие интересы есть у обоих полов, а также вывести их в порядке 'приоритета'. \n",
        "(Приоритет определяется по количеству упоминаний интереса в каждом из списков. Если интерес упоминается несколько раз, он считается более приоритетным.)\n",
        "\n",
        "Формат ввода:  \n",
        "• Первая строка содержит целое число n (1 ≤ n ≤ 100) — количество интересов у мальчиков.\n",
        "• Далее следуют n строк, каждая из которых содержит название интереса у мальчиков.\n",
        "• Затем следует целое число m (1 ≤ m ≤ 100) — количество интересов у девочек.\n",
        "• Далее следуют m строк, каждая из которых содержит название интереса у девочек.\n",
        "\n",
        "Формат вывода:  \n",
        "• Вывести названия интересов, которые есть у обоих полов, через запятую, отсортированные по приоритету (от большего к меньшему).\n",
        "• Если таких интересов нет, вывести сообщение 'Нет общих интересов'.\n"
      ],
      "metadata": {
        "id": "VgxTYH1BKbLv"
      }
    },
    {
      "cell_type": "markdown",
      "source": [],
      "metadata": {
        "id": "LQQU8Hd7YEQ9"
      }
    },
    {
      "cell_type": "code",
      "source": [
        "n = int(input())\n",
        "boys_interests = []\n",
        "\n",
        "for _ in range(n):\n",
        "    interest = input().strip()\n",
        "    boys_interests.append(interest)\n",
        "\n",
        "m = int(input())\n",
        "girls_interests = []\n",
        "\n",
        "for _ in range(m):\n",
        "    interest = input().strip()\n",
        "    girls_interests.append(interest)\n",
        "\n",
        "priority = {}\n",
        "\n",
        "for interest in boys_interests:\n",
        "    if interest in priority:\n",
        "        priority[interest][0] += 1\n",
        "    else:\n",
        "        priority[interest] = [1, 0]\n",
        "\n",
        "for interest in girls_interests:\n",
        "    if interest in priority:\n",
        "        priority[interest][1] += 1 \n",
        "    else:\n",
        "        priority[interest] = [0, 1]\n",
        "\n",
        "common_interests = []\n",
        "\n",
        "for interest, counts in priority.items():\n",
        "    if counts[0] > 0 and counts[1] > 0: \n",
        "        common_interests.append((interest, counts[0] + counts[1])) \n",
        "common_interests.sort(key=lambda x: x[1], reverse=True)\n",
        "\n",
        "if common_interests:\n",
        "    result = [interest for interest, _ in common_interests]\n",
        "    print(", ".join(result))\n",
        "else:\n",
        "    print("Нет общих интересов")\n",
        "\n"
      ]
      
          ]
        }
      ]
    }
  ]
}
