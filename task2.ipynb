{
  "nbformat": 4,
  "nbformat_minor": 0,
  "metadata": {
    "colab": {
      "provenance": []
    },
    "kernelspec": {
      "name": "python3",
      "display_name": "Python 3"
    },
    "language_info": {
      "name": "python"
    }
  },
  "cells": [
    {
      "cell_type": "markdown",
      "source": [
        "### Условие:\n",
        "Испокон веков в королевстве магов проходит турнир заклинаний.\n",
        "На нем они представляют свои лучшие наработки за весь год.\n",
        "И недавно вновь прошла такая встреча, на которой каждый маг представил свои уникальные заклинания. \n",
        "Вам нужно создать словарь, в котором ключами будут имена магов, а значениями — списки их заклинаний.\n", 
        "После этого вам нужно узнать, какие заклинания использует конкретный маг.\n",
      ],
      "metadata": {
        "id": "zxunuWsuH2aR"
      }
    },
    {
      "cell_type": "code",
      "execution_count": 37,
      "metadata": {
        "colab": {
          "base_uri": "https://localhost:8080/",
          "height": 0
        },
        "id": "Doldl0o-H1eZ",
        "outputId": "22780ab4-4a8a-47b0-d5d0-51751427b377"
      },
      "outputs": [
        {
          "output_type": "stream",
          "name": "stdout",
          "text": [
            "Формат ввода:\n",
            "• Первая строка содержит целое число n (1 ≤ n ≤ 100) — количество магов.\n",
            "• Далее следуют n строк, каждая из которых содержит имя мага и его заклинания, разделенные запятыми.\n",
            "• Последняя строка содержит имя мага для запроса.\n"
          ]
        }
      ],
      "source": [
        "anna = {\n",
        "    'фильмы': 4,\n",
        "    'названия_фильмов': {'Фильм1', 'Фильм2', 'Фильм3', 'Фильм4'}\n",
        "}\n",
        "\n",
        "sergey = {\n",
        "    'фильмы': 5,\n",
        "    'названия_фильмов': {'Фильм3', 'Фильм4', 'Фильм5', 'Фильм6', 'Фильм7'}\n",
        "}\n",
        "\n",
        "user_movies_anna = input(\"Введите названия фильмов Анны через запятую: \").split(',')\n",
        "user_movies_sergey = input(\"Введите названия фильмов Сергея через запятую: \").split(',')\n",
        "\n",
        "user_movies_anna = set(movie.strip() for movie in user_movies_anna)\n",
        "user_movies_sergey = set(movie.strip() for movie in user_movies_sergey)\n",
        "\n",
        "common_movies = user_movies_anna & user_movies_sergey\n",
        "\n",
        "print(\"Общие фильмы:\", *common_movies)\n",
        "print(\"Количество общих фильмов:\", len(common_movies))"
      ]
    },
    {
      "cell_type": "markdown",
      "source": [
        "\n",
        "### Задача 2: Коллекция книг\n",
        "\n",
        "У двух друзей, Ольги и Дмитрия, есть свои коллекции книг. Ольга собрала 2 книги, а Дмитрий — 3 книги. Они захотели узнать, сколько всех книг вместе взятых у них есть, а также сколько общих книг у них есть в своих коллекциях.\n",
        "\n",
        "**Условие задачи:**\n",
        "- Найдите количество книг, которые есть у обоих друзей.\n",
        "\n",
        "- Найдите общее количество книг, которые есть у Ольги и Дмитрия."
      ],
      "metadata": {
        "id": "VgxTYH1BKbLv"
      }
    },
    {
      "cell_type": "markdown",
      "source": [],
      "metadata": {
        "id": "LQQU8Hd7YEQ9"
      }
    },
    {
      "cell_type": "code",
      "source": [
        "olga = {\n",
        "    'knigi': 2,\n",
        "    'obshchie_knigi': {'Книга1', 'Книга2'}\n",
        "}\n",
        "\n",
        "dmitry = {\n",
        "    'knigi': 3,\n",
        "    'obshchie_knigi': {'Книга2', 'Книга3', 'Книга4'}\n",
        "}\n",
        "\n",
        "user_books_olga = input(\"Введите названия книг Ольги через запятую: \").split(', ')\n",
        "user_books_dmitry = input(\"Введите названия книг Дмитрия через запятую: \").split(', ')\n",
        "\n",
        "user_books_olga = set(book.strip() for book in user_books_olga)\n",
        "user_books_dmitry = set(book.strip() for book in user_books_dmitry)\n",
        "\n",
        "total_books = olga['knigi'] + dmitry['knigi']\n",
        "\n",
        "common_books = user_books_olga & user_books_dmitry\n",
        "str = common_books\n",
        "print(\"Всего книг:\", total_books)\n",
        "print(\"Общие книги:\", *common_books)\n",
        "print(\"Количество общих книг:\", len(common_books))"
      ],
      "metadata": {
        "colab": {
          "base_uri": "https://localhost:8080/",
          "height": 0
        },
        "id": "V8ZtOMzpUHhY",
        "outputId": "0a00d84f-f8f4-46f6-aa1d-e17606eb159f"
      },
      "execution_count": 39,
      "outputs": [
        {
          "output_type": "stream",
          "name": "stdout",
          "text": [
            "Введите названия книг Ольги через запятую: Чиполлино, В поисках синего\n",
            "Введите названия книг Дмитрия через запятую: Чиполлино, Вестник, В поисках синего\n",
            "Всего книг: 5\n",
            "Общие книги: В поисках синего Чиполлино\n",
            "Количество общих книг: 2\n"
          ]
        }
      ]
    }
  ]
}
